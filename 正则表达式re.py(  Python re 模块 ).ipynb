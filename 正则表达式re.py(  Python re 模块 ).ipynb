{
 "cells": [
  {
   "cell_type": "markdown",
   "metadata": {},
   "source": [
    "# 正则表达式\n",
    "* 正则表达式是用来简洁的表达一组字符串的表达式，它代表着那组字符串的特征。\n",
    "* 正则表达式简洁、一言胜千言\n",
    "* 编译： 将一组符合正则表达式语法的字符串转换为正则表达式特征"
   ]
  },
  {
   "cell_type": "markdown",
   "metadata": {},
   "source": [
    "### 正则表达式语法由字符和操作符组成\n",
    "* 正则表达式常用的操作符如下所示：\n",
    "* <img src='re/1.png'>\n",
    "* <img src='re/2.png'>"
   ]
  },
  {
   "cell_type": "markdown",
   "metadata": {},
   "source": [
    "### 常用的表达式示例\n",
    "* <img src='re/3.png'>\n",
    "* <img src='re/4.png'>"
   ]
  },
  {
   "cell_type": "markdown",
   "metadata": {},
   "source": [
    "## re库的主要功能函数\n",
    "* <img src='re/5.png'>"
   ]
  },
  {
   "cell_type": "markdown",
   "metadata": {},
   "source": [
    "### 1、re.search(pattern, string, flags=0)\n",
    "* 在一个字符串中搜索匹配正则表达式的第一个位置返回match对象\n",
    "* <img src='re/6.png'>"
   ]
  },
  {
   "cell_type": "code",
   "execution_count": 13,
   "metadata": {},
   "outputs": [
    {
     "name": "stdout",
     "output_type": "stream",
     "text": [
      "100081\n"
     ]
    }
   ],
   "source": [
    "import re\n",
    "match = re.search(r'[1-9]\\d{5}', 'BIT 100081')\n",
    "if match:\n",
    "    print(match.group(0))"
   ]
  },
  {
   "cell_type": "markdown",
   "metadata": {},
   "source": [
    "### 2、re.match(pattern, string, flags=0)\n",
    "* 从一个字符串的开始位置起匹配正则表达式返回match对象"
   ]
  },
  {
   "cell_type": "code",
   "execution_count": 15,
   "metadata": {},
   "outputs": [
    {
     "name": "stdout",
     "output_type": "stream",
     "text": [
      "not found\n"
     ]
    }
   ],
   "source": [
    "match = re.match(r'[1-9]\\d{5}', 'BIT 100081')\n",
    "if match:\n",
    "    print(match.group(0))\n",
    "else:\n",
    "    print(\"not found\")"
   ]
  },
  {
   "cell_type": "code",
   "execution_count": 16,
   "metadata": {},
   "outputs": [
    {
     "name": "stdout",
     "output_type": "stream",
     "text": [
      "100081\n"
     ]
    }
   ],
   "source": [
    "match = re.match(r'[1-9]\\d{5}', '100081 BIT')\n",
    "if match:\n",
    "    print(match.group(0))\n",
    "else:\n",
    "    print(\"not found\")"
   ]
  },
  {
   "cell_type": "markdown",
   "metadata": {},
   "source": [
    "### 3、re.findall(pattern, string, flags=0)\n",
    "* 搜索字符串，以列表的形式返回全部能够匹配的子串"
   ]
  },
  {
   "cell_type": "code",
   "execution_count": 19,
   "metadata": {},
   "outputs": [
    {
     "data": {
      "text/plain": [
       "['100081', '100084']"
      ]
     },
     "execution_count": 19,
     "metadata": {},
     "output_type": "execute_result"
    }
   ],
   "source": [
    "ls = re.findall(r'[1-9]\\d{5}','BIT100081 TSU100084 000008DUX')\n",
    "ls"
   ]
  },
  {
   "cell_type": "markdown",
   "metadata": {},
   "source": [
    "### 4、re.split(pattern, string, maxsplit=0, flags=0)\n",
    "* 将一个字符串按照正则表达式匹配结果进行分割返回列表类型"
   ]
  },
  {
   "cell_type": "code",
   "execution_count": 23,
   "metadata": {},
   "outputs": [
    {
     "data": {
      "text/plain": [
       "['BIT ', ' TSU ', ' 000008DUX']"
      ]
     },
     "execution_count": 23,
     "metadata": {},
     "output_type": "execute_result"
    }
   ],
   "source": [
    "re.split(r'[1-9]\\d{5}','BIT 100081 TSU 100084 000008DUX')"
   ]
  },
  {
   "cell_type": "code",
   "execution_count": 24,
   "metadata": {},
   "outputs": [
    {
     "data": {
      "text/plain": [
       "['BIT', ' TSU100084 000008DUX']"
      ]
     },
     "execution_count": 24,
     "metadata": {},
     "output_type": "execute_result"
    }
   ],
   "source": [
    "re.split(r'[1-9]\\d{5}','BIT100081 TSU100084 000008DUX', maxsplit=1)"
   ]
  },
  {
   "cell_type": "markdown",
   "metadata": {},
   "source": [
    "### 5、finditer(pattern, string, flags=0)\n",
    "* 搜索字符串，返回一个匹配结果的迭代对象，每个迭代元素是match对象"
   ]
  },
  {
   "cell_type": "code",
   "execution_count": 25,
   "metadata": {},
   "outputs": [
    {
     "name": "stdout",
     "output_type": "stream",
     "text": [
      "100081\n",
      "100083\n"
     ]
    }
   ],
   "source": [
    "for m in re.finditer(r'[1-9]\\d{5}','BIT100081 TSU100083'):\n",
    "    if m:\n",
    "        print(m.group(0))\n",
    "    else:\n",
    "        print('not found')"
   ]
  },
  {
   "cell_type": "markdown",
   "metadata": {},
   "source": [
    "### 7、sub(pattern, repl, string, count, flags=0)\n",
    "* 在一个字符串中替换所有匹配正则表达式的子串，返回替换后的字符串。"
   ]
  },
  {
   "cell_type": "code",
   "execution_count": 26,
   "metadata": {},
   "outputs": [
    {
     "data": {
      "text/plain": [
       "'BIT:zipcode TSU:zipcode'"
      ]
     },
     "execution_count": 26,
     "metadata": {},
     "output_type": "execute_result"
    }
   ],
   "source": [
    "re.sub(r'[1-9]\\d{5}', ':zipcode','BIT100081 TSU100084')"
   ]
  },
  {
   "cell_type": "markdown",
   "metadata": {},
   "source": [
    "## re库的另一种等价用法\n",
    "* 也可以先对匹配正则表达式进行编译，然后再使用。这样做的好处是可以重复使用。\n",
    "* <img src='re/7.png'>"
   ]
  },
  {
   "cell_type": "code",
   "execution_count": 27,
   "metadata": {},
   "outputs": [],
   "source": [
    "pat = re.compile(r'[1-9]\\d{5}')"
   ]
  },
  {
   "cell_type": "code",
   "execution_count": 30,
   "metadata": {},
   "outputs": [
    {
     "data": {
      "text/plain": [
       "['100081', '100083']"
      ]
     },
     "execution_count": 30,
     "metadata": {},
     "output_type": "execute_result"
    }
   ],
   "source": [
    "pat.findall('BIT100081 TSU100083')"
   ]
  },
  {
   "cell_type": "code",
   "execution_count": 32,
   "metadata": {},
   "outputs": [
    {
     "name": "stdout",
     "output_type": "stream",
     "text": [
      "100081\n",
      "100083\n",
      "100038\n",
      "100032\n"
     ]
    }
   ],
   "source": [
    "for item in pat.finditer('BIT100081 TSU100083 100038UAB U100032AS'):\n",
    "    print(item.group(0))"
   ]
  },
  {
   "cell_type": "code",
   "execution_count": 33,
   "metadata": {},
   "outputs": [
    {
     "data": {
      "text/plain": [
       "<_sre.SRE_Match object; span=(3, 9), match='100081'>"
      ]
     },
     "execution_count": 33,
     "metadata": {},
     "output_type": "execute_result"
    }
   ],
   "source": [
    "pat.search('BIT100081 TSU100083 100038UAB U100032AS')"
   ]
  },
  {
   "cell_type": "markdown",
   "metadata": {},
   "source": [
    "# match对象\n",
    "* 上文提到match对象，该对象主要有以下几个属性\n",
    "* <img src='re/8.png'>"
   ]
  },
  {
   "cell_type": "markdown",
   "metadata": {},
   "source": [
    "* match对象的方法\n",
    "<img src='re/9.png'>"
   ]
  },
  {
   "cell_type": "code",
   "execution_count": 35,
   "metadata": {},
   "outputs": [
    {
     "data": {
      "text/plain": [
       "'BIT100081 TSU100083 100038UAB U100032AS'"
      ]
     },
     "execution_count": 35,
     "metadata": {},
     "output_type": "execute_result"
    }
   ],
   "source": [
    "m = pat.search('BIT100081 TSU100083 100038UAB U100032AS')\n",
    "m.string"
   ]
  },
  {
   "cell_type": "code",
   "execution_count": 36,
   "metadata": {},
   "outputs": [
    {
     "data": {
      "text/plain": [
       "re.compile(r'[1-9]\\d{5}', re.UNICODE)"
      ]
     },
     "execution_count": 36,
     "metadata": {},
     "output_type": "execute_result"
    }
   ],
   "source": [
    "m.re"
   ]
  },
  {
   "cell_type": "code",
   "execution_count": 39,
   "metadata": {},
   "outputs": [
    {
     "data": {
      "text/plain": [
       "3"
      ]
     },
     "execution_count": 39,
     "metadata": {},
     "output_type": "execute_result"
    }
   ],
   "source": [
    "m.start()"
   ]
  },
  {
   "cell_type": "code",
   "execution_count": 40,
   "metadata": {},
   "outputs": [
    {
     "data": {
      "text/plain": [
       "9"
      ]
     },
     "execution_count": 40,
     "metadata": {},
     "output_type": "execute_result"
    }
   ],
   "source": [
    "m.end()"
   ]
  },
  {
   "cell_type": "code",
   "execution_count": 41,
   "metadata": {},
   "outputs": [
    {
     "data": {
      "text/plain": [
       "(3, 9)"
      ]
     },
     "execution_count": 41,
     "metadata": {},
     "output_type": "execute_result"
    }
   ],
   "source": [
    "m.span()"
   ]
  },
  {
   "cell_type": "markdown",
   "metadata": {},
   "source": [
    "# re的贪婪匹配和最小匹配\n",
    "* re 模块默认的是贪婪匹配\n",
    "* <img src='re/10.png'>"
   ]
  },
  {
   "cell_type": "code",
   "execution_count": 43,
   "metadata": {},
   "outputs": [
    {
     "data": {
      "text/plain": [
       "'PYANBNCNDN'"
      ]
     },
     "execution_count": 43,
     "metadata": {},
     "output_type": "execute_result"
    }
   ],
   "source": [
    "pat = re.compile(r'PY.*N')\n",
    "m = pat.search(\"PYANBNCNDN\")\n",
    "m.group(0)"
   ]
  },
  {
   "cell_type": "code",
   "execution_count": 45,
   "metadata": {},
   "outputs": [
    {
     "data": {
      "text/plain": [
       "'PYAN'"
      ]
     },
     "execution_count": 45,
     "metadata": {},
     "output_type": "execute_result"
    }
   ],
   "source": [
    "# 但是如果我们只想匹配最短的即“PYAN”，怎么办？\n",
    "pat = re.compile(r'PY.*?N')\n",
    "m = pat.search(\"PYANBNCNDN\")\n",
    "m.group(0)"
   ]
  },
  {
   "cell_type": "markdown",
   "metadata": {},
   "source": [
    "# 以下为re.py中的函数定义"
   ]
  },
  {
   "cell_type": "markdown",
   "metadata": {},
   "source": [
    "----\n",
    "----\n",
    "### match()函数\n",
    "* 从字符串的开始匹配模式，如果匹配到，返回一个match对象；否则返回None"
   ]
  },
  {
   "cell_type": "code",
   "execution_count": 2,
   "metadata": {},
   "outputs": [],
   "source": [
    "def match(pattern, string, flags=0):\n",
    "    \"\"\"Try to apply the pattern at the start of the string, returning\n",
    "    a match object, or None if no match was found.\"\"\"\n",
    "    return _compile(pattern, flags).match(string)\n"
   ]
  },
  {
   "cell_type": "markdown",
   "metadata": {},
   "source": [
    "### fullamtch()\n",
    "* 对整个字符串进行模式匹配，如果匹配到，返回一个match对象，否则返回None"
   ]
  },
  {
   "cell_type": "code",
   "execution_count": 3,
   "metadata": {},
   "outputs": [],
   "source": [
    "def fullmatch(pattern, string, flags=0):\n",
    "    \"\"\"Try to apply the pattern to all of the string, returning\n",
    "    a match object, or None if no match was found.\"\"\"\n",
    "    return _compile(pattern, flags).fullmatch(string)"
   ]
  },
  {
   "cell_type": "markdown",
   "metadata": {},
   "source": [
    "### search()\n",
    "* 在一个字符串中搜索匹配正则表达式的第一个位置返回match对象"
   ]
  },
  {
   "cell_type": "code",
   "execution_count": 4,
   "metadata": {},
   "outputs": [],
   "source": [
    "def search(pattern, string, flags=0):\n",
    "    \"\"\"Scan through string looking for a match to the pattern, returning\n",
    "    a match object, or None if no match was found.\"\"\"\n",
    "    return _compile(pattern, flags).search(string)"
   ]
  },
  {
   "cell_type": "markdown",
   "metadata": {},
   "source": [
    "### sub()\n",
    "* 对string进行模式匹配，将匹配到的字符使用repl进行替换，返回替换后的字符串。其中count为匹配的次数"
   ]
  },
  {
   "cell_type": "code",
   "execution_count": 5,
   "metadata": {},
   "outputs": [],
   "source": [
    "def sub(pattern, repl, string, count=0, flags=0):\n",
    "    \"\"\"Return the string obtained by replacing the leftmost\n",
    "    non-overlapping occurrences of the pattern in string by the\n",
    "    replacement repl.  repl can be either a string or a callable;\n",
    "    if a string, backslash escapes in it are processed.  If it is\n",
    "    a callable, it's passed the match object and must return\n",
    "    a replacement string to be used.\"\"\"\n",
    "    return _compile(pattern, flags).sub(repl, string, count)"
   ]
  },
  {
   "cell_type": "markdown",
   "metadata": {},
   "source": [
    "### subn()\n",
    "* 对string进行模式匹配，将匹配到的字符使用repl进行替换，返回一个元组(new_string, number)。new_string为替换后的字符串，number为实际替换的次数。其中count为匹配的次数"
   ]
  },
  {
   "cell_type": "code",
   "execution_count": 6,
   "metadata": {},
   "outputs": [],
   "source": [
    "def subn(pattern, repl, string, count=0, flags=0):\n",
    "    \"\"\"Return a 2-tuple containing (new_string, number).\n",
    "    new_string is the string obtained by replacing the leftmost\n",
    "    non-overlapping occurrences of the pattern in the source\n",
    "    string by the replacement repl.  number is the number of\n",
    "    substitutions that were made. repl can be either a string or a\n",
    "    callable; if a string, backslash escapes in it are processed.\n",
    "    If it is a callable, it's passed the match object and must\n",
    "    return a replacement string to be used.\"\"\"\n",
    "    return _compile(pattern, flags).subn(repl, string, count)"
   ]
  },
  {
   "cell_type": "markdown",
   "metadata": {},
   "source": [
    "### split()\n",
    "* 按照指定的模式对字符串进行分隔，返回一个分隔后的字符串组成的列表"
   ]
  },
  {
   "cell_type": "code",
   "execution_count": 7,
   "metadata": {},
   "outputs": [],
   "source": [
    "def split(pattern, string, maxsplit=0, flags=0):\n",
    "    \"\"\"Split the source string by the occurrences of the pattern,\n",
    "    returning a list containing the resulting substrings.  If\n",
    "    capturing parentheses are used in pattern, then the text of all\n",
    "    groups in the pattern are also returned as part of the resulting\n",
    "    list.  If maxsplit is nonzero, at most maxsplit splits occur,\n",
    "    and the remainder of the string is returned as the final element\n",
    "    of the list.\"\"\"\n",
    "    return _compile(pattern, flags).split(string, maxsplit)"
   ]
  },
  {
   "cell_type": "markdown",
   "metadata": {},
   "source": [
    "### findall()\n",
    "* 在字符串中进行模式匹配，并将匹配到的结果以列表的形式返回"
   ]
  },
  {
   "cell_type": "code",
   "execution_count": 8,
   "metadata": {},
   "outputs": [],
   "source": [
    "def findall(pattern, string, flags=0):\n",
    "    \"\"\"Return a list of all non-overlapping matches in the string.\n",
    "    If one or more capturing groups are present in the pattern, return\n",
    "    a list of groups; this will be a list of tuples if the pattern\n",
    "    has more than one group.\n",
    "    Empty matches are included in the result.\"\"\"\n",
    "    return _compile(pattern, flags).findall(string)"
   ]
  },
  {
   "cell_type": "markdown",
   "metadata": {},
   "source": [
    "### finditer()\n",
    "* 返回一个迭代器"
   ]
  },
  {
   "cell_type": "code",
   "execution_count": 9,
   "metadata": {},
   "outputs": [],
   "source": [
    "def finditer(pattern, string, flags=0):\n",
    "    \"\"\"Return an iterator over all non-overlapping matches in the\n",
    "    string.  For each match, the iterator returns a match object.\n",
    "    Empty matches are included in the result.\"\"\"\n",
    "    return _compile(pattern, flags).finditer(string)\n"
   ]
  },
  {
   "cell_type": "markdown",
   "metadata": {},
   "source": [
    "### compile()\n",
    "* 编译一个字符串形式的正则表达式，返回一个pattern对象"
   ]
  },
  {
   "cell_type": "code",
   "execution_count": 10,
   "metadata": {},
   "outputs": [],
   "source": [
    "def compile(pattern, flags=0):\n",
    "    \"Compile a regular expression pattern, returning a pattern object.\"\n",
    "    return _compile(pattern, flags)"
   ]
  },
  {
   "cell_type": "markdown",
   "metadata": {},
   "source": [
    "### purge()\n",
    "* 清除正则表达式的缓存"
   ]
  },
  {
   "cell_type": "code",
   "execution_count": 11,
   "metadata": {},
   "outputs": [],
   "source": [
    "def purge():\n",
    "    \"Clear the regular expression caches\"\n",
    "    _cache.clear()\n",
    "    _compile_repl.cache_clear()"
   ]
  }
 ],
 "metadata": {
  "kernelspec": {
   "display_name": "Python 3",
   "language": "python",
   "name": "python3"
  },
  "language_info": {
   "codemirror_mode": {
    "name": "ipython",
    "version": 3
   },
   "file_extension": ".py",
   "mimetype": "text/x-python",
   "name": "python",
   "nbconvert_exporter": "python",
   "pygments_lexer": "ipython3",
   "version": "3.6.4"
  }
 },
 "nbformat": 4,
 "nbformat_minor": 2
}
