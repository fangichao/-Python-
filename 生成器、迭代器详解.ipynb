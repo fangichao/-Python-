{
 "cells": [
  {
   "cell_type": "markdown",
   "metadata": {},
   "source": [
    "# 总结\n",
    "* **Iterable**：凡是可以作用于for循环的对象都是Iterable（可迭代的）。\n",
    "* **Iterator**：凡是可以作用于next()函数额对象都是Iterator（迭代器）对象。\n",
    "* list、tuple、dict、str、set等都**是Iterable(可迭代的)**，因为可以使用for循环遍历，但是它们**不是Iterator(迭代器)**，因为不能使用next()函数。\n",
    "* 生成器是一种迭代器。\n",
    "* 带有yield的函数不再是一个普通的函数，而是一个生成器generator，可用于迭代。\n",
    "* 生成器有两个方法：**send()和next()**,区别就在于send可传递参数给yield表达式，传递的参数会作为yield表达式的值，而yield的参数是返回给调用者的值，也就是说send可以强行修改上一个yield表达式值。send()和next()都有返回值，他们的返回值是当前迭代遇到的yield的时候，yield后面表达式的值，其实就是当前迭代yield后面的参数。\n",
    "* 通俗理解，yield会将生成器函数挂起，保存相关的状态信息，并返回一个值给调用者；next()会重新唤醒生成器函数，并从上一次挂起的位置继续执行。"
   ]
  },
  {
   "cell_type": "markdown",
   "metadata": {},
   "source": [
    "## 1、生成器\n",
    "* **定义：** 在python中，一边做循环，一边计算的机制称为生成器（generator）\n",
    "* **好处：** 使用生成器可以【节约内存】，python在使用生成器时对延迟操作提供了支持。所谓的延迟是指，在需要的时候才会产生结果，而不是立即产生结果存储在内存之中。\n",
    "* 创建生成器有两种方式：一种是使用类似于列表生成式的方式，只不过把方括号换为圆括号；另外一种是使用生成器函数，在函数定义的时候引入yield语句。"
   ]
  },
  {
   "cell_type": "markdown",
   "metadata": {},
   "source": [
    "### 1.1、列表生成式"
   ]
  },
  {
   "cell_type": "code",
   "execution_count": 3,
   "metadata": {},
   "outputs": [
    {
     "data": {
      "text/plain": [
       "[10, 11, 12, 13, 14, 15]"
      ]
     },
     "execution_count": 3,
     "metadata": {},
     "output_type": "execute_result"
    }
   ],
   "source": [
    "'''有一个列表，需要将每个元素值加上10'''\n",
    "alist = [0,1,2,3,4,5]\n",
    "new_list = [i+10 for i in alist]    #使用列表生成式\n",
    "new_list"
   ]
  },
  {
   "cell_type": "code",
   "execution_count": 5,
   "metadata": {},
   "outputs": [
    {
     "data": {
      "text/plain": [
       "[0, 1, 4, 9, 16]"
      ]
     },
     "execution_count": 5,
     "metadata": {},
     "output_type": "execute_result"
    }
   ],
   "source": [
    "'''使用列表生成式创建一个列表'''\n",
    "alist = [x**2 for x in range(5)]\n",
    "alist"
   ]
  },
  {
   "cell_type": "markdown",
   "metadata": {},
   "source": [
    "### 1.2、生成器表达式创建生成器"
   ]
  },
  {
   "cell_type": "code",
   "execution_count": 6,
   "metadata": {},
   "outputs": [
    {
     "data": {
      "text/plain": [
       "<generator object <genexpr> at 0x059F7B10>"
      ]
     },
     "execution_count": 6,
     "metadata": {},
     "output_type": "execute_result"
    }
   ],
   "source": [
    "gen = (x**2 for x in range(5))\n",
    "gen"
   ]
  },
  {
   "cell_type": "code",
   "execution_count": 8,
   "metadata": {},
   "outputs": [
    {
     "data": {
      "text/plain": [
       "0"
      ]
     },
     "execution_count": 8,
     "metadata": {},
     "output_type": "execute_result"
    }
   ],
   "source": [
    "next(gen)"
   ]
  },
  {
   "cell_type": "code",
   "execution_count": 10,
   "metadata": {},
   "outputs": [
    {
     "data": {
      "text/plain": [
       "1"
      ]
     },
     "execution_count": 10,
     "metadata": {},
     "output_type": "execute_result"
    }
   ],
   "source": [
    "next(gen)"
   ]
  },
  {
   "cell_type": "code",
   "execution_count": 11,
   "metadata": {},
   "outputs": [
    {
     "name": "stdout",
     "output_type": "stream",
     "text": [
      "4\n",
      "9\n",
      "16\n"
     ]
    }
   ],
   "source": [
    "for x in gen:\n",
    "    print(x)"
   ]
  },
  {
   "cell_type": "markdown",
   "metadata": {},
   "source": [
    "* 当没有元素时就会抛出StopIteration的错误。"
   ]
  },
  {
   "cell_type": "code",
   "execution_count": 12,
   "metadata": {},
   "outputs": [
    {
     "ename": "StopIteration",
     "evalue": "",
     "output_type": "error",
     "traceback": [
      "\u001b[1;31m---------------------------------------------------------------------------\u001b[0m",
      "\u001b[1;31mStopIteration\u001b[0m                             Traceback (most recent call last)",
      "\u001b[1;32m<ipython-input-12-6e72e47198db>\u001b[0m in \u001b[0;36m<module>\u001b[1;34m()\u001b[0m\n\u001b[1;32m----> 1\u001b[1;33m \u001b[0mnext\u001b[0m\u001b[1;33m(\u001b[0m\u001b[0mgen\u001b[0m\u001b[1;33m)\u001b[0m\u001b[1;33m\u001b[0m\u001b[0m\n\u001b[0m",
      "\u001b[1;31mStopIteration\u001b[0m: "
     ]
    }
   ],
   "source": [
    "next(gen)"
   ]
  },
  {
   "cell_type": "markdown",
   "metadata": {},
   "source": [
    "### 1.3、生成器函数创建生成器\n",
    "* 在有些时候生成器表达式无法实现一些复杂的功能，此时可以使用 生成器函数。\n",
    "* 下面使用**【斐波那契数列】**来解释："
   ]
  },
  {
   "cell_type": "code",
   "execution_count": 16,
   "metadata": {},
   "outputs": [
    {
     "name": "stdout",
     "output_type": "stream",
     "text": [
      "1 1 2 3 5 "
     ]
    }
   ],
   "source": [
    "'''普通函数'''\n",
    "def fib(max):\n",
    "    n,a,b = 0,0,1\n",
    "    while n<max:\n",
    "        a,b = b, a+b\n",
    "        print(a,end=' ')\n",
    "        n += 1\n",
    "    return \"done\"\n",
    "a = fib(5)"
   ]
  },
  {
   "cell_type": "code",
   "execution_count": 17,
   "metadata": {},
   "outputs": [
    {
     "name": "stdout",
     "output_type": "stream",
     "text": [
      "1 1 2 3 5 "
     ]
    },
    {
     "data": {
      "text/plain": [
       "'done'"
      ]
     },
     "execution_count": 17,
     "metadata": {},
     "output_type": "execute_result"
    }
   ],
   "source": [
    "fib(5)"
   ]
  },
  {
   "cell_type": "code",
   "execution_count": 19,
   "metadata": {},
   "outputs": [],
   "source": [
    "'''使用生成器'''\n",
    "def fib(max):\n",
    "    n,a,b = 0,0,1\n",
    "    while n < max:\n",
    "        a,b = b, a+b\n",
    "        yield a\n",
    "        n += 1\n",
    "    return 'done'"
   ]
  },
  {
   "cell_type": "code",
   "execution_count": 24,
   "metadata": {},
   "outputs": [
    {
     "data": {
      "text/plain": [
       "<generator object fib at 0x00AEEE10>"
      ]
     },
     "execution_count": 24,
     "metadata": {},
     "output_type": "execute_result"
    }
   ],
   "source": [
    "a = fib(10)\n",
    "a"
   ]
  },
  {
   "cell_type": "code",
   "execution_count": 25,
   "metadata": {},
   "outputs": [
    {
     "data": {
      "text/plain": [
       "1"
      ]
     },
     "execution_count": 25,
     "metadata": {},
     "output_type": "execute_result"
    }
   ],
   "source": [
    "a.__next__()"
   ]
  },
  {
   "cell_type": "code",
   "execution_count": 26,
   "metadata": {},
   "outputs": [
    {
     "name": "stdout",
     "output_type": "stream",
     "text": [
      "1 2 3 5 8 13 21 34 55 "
     ]
    }
   ],
   "source": [
    "for i in a:\n",
    "    print(i,end=' ')"
   ]
  },
  {
   "cell_type": "markdown",
   "metadata": {},
   "source": [
    "* 但是上面的程序还有一点小问题：“done”哪去了？怎么打印出来？\n",
    "* 我们可以使用异常捕获机制："
   ]
  },
  {
   "cell_type": "code",
   "execution_count": 28,
   "metadata": {},
   "outputs": [
    {
     "name": "stdout",
     "output_type": "stream",
     "text": [
      "1 1 2 3 5 8 13 21 34 55 \n",
      "生成器的返回值：  done\n"
     ]
    }
   ],
   "source": [
    "Fib = fib(10)\n",
    "while True:\n",
    "    try:\n",
    "        x = next(Fib)\n",
    "        print(x,end=' ')\n",
    "    except StopIteration as e:\n",
    "        print(\"\\n生成器的返回值： \", e.value)\n",
    "        break\n",
    "        "
   ]
  },
  {
   "cell_type": "markdown",
   "metadata": {},
   "source": [
    "## 2、迭代器\n",
    "### 2.1、可迭代对象（Iterable）\n",
    "* 可迭代对象主要有两种：1、集合数据类型（list、tuple、dict、set、str等）；2、生成器对象"
   ]
  },
  {
   "cell_type": "markdown",
   "metadata": {},
   "source": [
    "### 2.2、如何判读是否为Iterable?\n",
    "* 可以使用collections中的Iterable模块"
   ]
  },
  {
   "cell_type": "code",
   "execution_count": 38,
   "metadata": {},
   "outputs": [
    {
     "name": "stdout",
     "output_type": "stream",
     "text": [
      "[1, 2, 3] is Iterable:True \n",
      "(1, 2, 3) is Iterable:True \n",
      "123 is Iterable:True \n",
      "{0: 1, 1: 10, 2: 100} is Iterable:True \n",
      "{1, 2, 3} is Iterable:True \n"
     ]
    }
   ],
   "source": [
    "from collections import Iterable\n",
    "List = [1,2,3]\n",
    "Tuple = (1,2,3)\n",
    "Str = \"123\"\n",
    "Dict = {0:1,1:10,2:100}\n",
    "Set = set([1,2,3]) # Set = {1,2,3}\n",
    "objs = [List,Tuple,Str,Dict,Set]\n",
    "for obj in objs:\n",
    "    print(\"{} is Iterable:{} \".format(obj,isinstance(obj, Iterable)))"
   ]
  },
  {
   "cell_type": "markdown",
   "metadata": {},
   "source": [
    "### 2.3、迭代器（Iterator）\n",
    "* 可以使用next()调用并不断返回下一个值得对象称为迭代器。生成器是迭代器的子类。注意集合类型的数据不是迭代器"
   ]
  },
  {
   "cell_type": "code",
   "execution_count": 39,
   "metadata": {},
   "outputs": [
    {
     "name": "stdout",
     "output_type": "stream",
     "text": [
      "[1, 2, 3] is Iterable:False \n",
      "(1, 2, 3) is Iterable:False \n",
      "123 is Iterable:False \n",
      "{0: 1, 1: 10, 2: 100} is Iterable:False \n",
      "{1, 2, 3} is Iterable:False \n"
     ]
    }
   ],
   "source": [
    "from collections import Iterator\n",
    "for obj in objs:\n",
    "    print(\"{} is Iterable:{} \".format(obj,isinstance(obj, Iterator)))"
   ]
  },
  {
   "cell_type": "markdown",
   "metadata": {},
   "source": [
    "* 可以使用iter()函数将上述的集合数据转换为迭代器："
   ]
  },
  {
   "cell_type": "code",
   "execution_count": 40,
   "metadata": {},
   "outputs": [
    {
     "name": "stdout",
     "output_type": "stream",
     "text": [
      "[1, 2, 3] is Iterable:True \n",
      "(1, 2, 3) is Iterable:True \n",
      "123 is Iterable:True \n",
      "{0: 1, 1: 10, 2: 100} is Iterable:True \n",
      "{1, 2, 3} is Iterable:True \n"
     ]
    }
   ],
   "source": [
    "for obj in objs:\n",
    "    print(\"{} is Iterable:{} \".format(obj,isinstance(iter(obj), Iterator)))"
   ]
  }
 ],
 "metadata": {
  "kernelspec": {
   "display_name": "Python 3",
   "language": "python",
   "name": "python3"
  },
  "language_info": {
   "codemirror_mode": {
    "name": "ipython",
    "version": 3
   },
   "file_extension": ".py",
   "mimetype": "text/x-python",
   "name": "python",
   "nbconvert_exporter": "python",
   "pygments_lexer": "ipython3",
   "version": "3.6.4"
  }
 },
 "nbformat": 4,
 "nbformat_minor": 2
}
