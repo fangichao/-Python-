{
 "cells": [
  {
   "cell_type": "markdown",
   "metadata": {},
   "source": [
    "# 1、闭包\n",
    "* **什么是闭包**：内部函数对外部函数作用域里的非全局变量的引用，称【内部函数】为闭包。\n",
    "* **闭包三要素**：1、嵌套函数；2、变量引用；3、返回内部函数"
   ]
  },
  {
   "cell_type": "code",
   "execution_count": 1,
   "metadata": {},
   "outputs": [
    {
     "data": {
      "text/plain": [
       "<function __main__.fun.<locals>.fun_in(m)>"
      ]
     },
     "execution_count": 1,
     "metadata": {},
     "output_type": "execute_result"
    }
   ],
   "source": [
    "def fun(n):\n",
    "    def fun_in(m):\n",
    "        print(\"sum = \",n+m)#内部函数对外部函数的变量的引用（n）\n",
    "        return n,m\n",
    "    return fun_in\n",
    "f = fun(10)    # 这里f 为函数fun()的返回值，及fun_in的地址\n",
    "f"
   ]
  },
  {
   "cell_type": "code",
   "execution_count": 2,
   "metadata": {},
   "outputs": [
    {
     "name": "stdout",
     "output_type": "stream",
     "text": [
      "sum =  110\n"
     ]
    },
    {
     "data": {
      "text/plain": [
       "(10, 100)"
      ]
     },
     "execution_count": 2,
     "metadata": {},
     "output_type": "execute_result"
    }
   ],
   "source": [
    "# 要想调用函数，只需要加上括号并传入相关的参数即可\n",
    "f(100)"
   ]
  },
  {
   "cell_type": "markdown",
   "metadata": {},
   "source": [
    "## 使用\n",
    "* 下面的代码定义了一个一次函数y = ax+b,其中a,b为参数，我们可以i对其进行指定："
   ]
  },
  {
   "cell_type": "code",
   "execution_count": 3,
   "metadata": {},
   "outputs": [],
   "source": [
    "def fun(a,b):\n",
    "    def fun_in(x):\n",
    "        return a*x + b\n",
    "    return fun_in"
   ]
  },
  {
   "cell_type": "code",
   "execution_count": 4,
   "metadata": {},
   "outputs": [
    {
     "data": {
      "text/plain": [
       "<function __main__.fun.<locals>.fun_in(x)>"
      ]
     },
     "execution_count": 4,
     "metadata": {},
     "output_type": "execute_result"
    }
   ],
   "source": [
    "f = fun(2,3)\n",
    "f"
   ]
  },
  {
   "cell_type": "code",
   "execution_count": 5,
   "metadata": {},
   "outputs": [
    {
     "data": {
      "text/plain": [
       "23"
      ]
     },
     "execution_count": 5,
     "metadata": {},
     "output_type": "execute_result"
    }
   ],
   "source": [
    "f(10)#2*10+3"
   ]
  },
  {
   "cell_type": "code",
   "execution_count": 6,
   "metadata": {},
   "outputs": [
    {
     "data": {
      "text/plain": [
       "50"
      ]
     },
     "execution_count": 6,
     "metadata": {},
     "output_type": "execute_result"
    }
   ],
   "source": [
    "#也可以直接调用\n",
    "fun(4,10)(10)"
   ]
  },
  {
   "cell_type": "markdown",
   "metadata": {},
   "source": [
    "# 2、装饰器"
   ]
  },
  {
   "cell_type": "markdown",
   "metadata": {},
   "source": [
    "* 首先，放出来那两篇博客的链接，大家可以去看看，保证有所收获！[python装饰器详解](https://blog.csdn.net/xiangxianghehe/article/details/77170585)和[Python 装饰器的通俗理解](https://blog.csdn.net/u013471155/article/details/68960244)\n",
    "* 功能：简单来说，装饰器的作用就是在已经定义了某个函数之后，后期我们希望为该函数增加新的功能，但是碍于代码已经上线运行等原因，我们不能直接在源代码上直接修改。从中可以看出有以下几点：\n",
    "    * 1、不修改原来的核心代码\n",
    "    * 2、不能改变核心代码的调用方式\n",
    "    * 3、给核心代码增加新的功能"
   ]
  },
  {
   "cell_type": "markdown",
   "metadata": {},
   "source": [
    "### 高级函数\n",
    "* 首先需要知道函数名和变量名在实际上就是一个地址。高级函数可以分为：\n",
    "    * 1、函数的参数是一个函数\n",
    "    * 2、函数的返回值是一个函数\n",
    "* 还有就是区分函数定义和函数调用，下面举个例子："
   ]
  },
  {
   "cell_type": "code",
   "execution_count": 7,
   "metadata": {},
   "outputs": [],
   "source": [
    "def func1():\n",
    "    def func2():\n",
    "        print('call func2')\n",
    "    print('call func1')"
   ]
  },
  {
   "cell_type": "code",
   "execution_count": 8,
   "metadata": {},
   "outputs": [
    {
     "name": "stdout",
     "output_type": "stream",
     "text": [
      "call func1\n"
     ]
    }
   ],
   "source": [
    "func1()"
   ]
  },
  {
   "cell_type": "markdown",
   "metadata": {},
   "source": [
    "* 注意上述代码并没有打印出call func2,这里可以这样理解，func1()的功能就是定义func2，并打印call func1"
   ]
  },
  {
   "cell_type": "code",
   "execution_count": 9,
   "metadata": {},
   "outputs": [],
   "source": [
    "def func1():\n",
    "    def func2():\n",
    "        print('call func2')\n",
    "    func2()\n",
    "    print('call func1')"
   ]
  },
  {
   "cell_type": "code",
   "execution_count": 10,
   "metadata": {},
   "outputs": [
    {
     "name": "stdout",
     "output_type": "stream",
     "text": [
      "call func2\n",
      "call func1\n"
     ]
    }
   ],
   "source": [
    "func1()"
   ]
  },
  {
   "cell_type": "markdown",
   "metadata": {},
   "source": [
    "* 上述代码可以理解为有两个功能：一个是定义func2,一个是调用func2."
   ]
  },
  {
   "cell_type": "code",
   "execution_count": 11,
   "metadata": {},
   "outputs": [],
   "source": [
    "# 该函数在两秒之后打印内容\n",
    "import time\n",
    "def test():\n",
    "    time.sleep(2)\n",
    "    print(\"test is running\")"
   ]
  },
  {
   "cell_type": "code",
   "execution_count": 12,
   "metadata": {},
   "outputs": [
    {
     "name": "stdout",
     "output_type": "stream",
     "text": [
      "test is running\n"
     ]
    }
   ],
   "source": [
    "test()"
   ]
  },
  {
   "cell_type": "markdown",
   "metadata": {},
   "source": [
    "* 现在需要增加该函数的功能，计算该函数的运行时间，但是不可以改变test()函数"
   ]
  },
  {
   "cell_type": "code",
   "execution_count": 13,
   "metadata": {},
   "outputs": [],
   "source": [
    "import time\n",
    "def test():\n",
    "    time.sleep(2)\n",
    "    print(\"test is running\")\n",
    "def deco(func):\n",
    "    start = time.time()\n",
    "    func()\n",
    "    stop = time.time()\n",
    "    print(stop - start)"
   ]
  },
  {
   "cell_type": "code",
   "execution_count": 14,
   "metadata": {},
   "outputs": [
    {
     "name": "stdout",
     "output_type": "stream",
     "text": [
      "test is running\n",
      "2.000415325164795\n"
     ]
    }
   ],
   "source": [
    "deco(test)"
   ]
  },
  {
   "cell_type": "markdown",
   "metadata": {},
   "source": [
    "* 上述代码中deco()函数其实就是一个高级函数，它的参数为一个函数。\n",
    "*　但是上面的函数虽然实现了增加功能的要求，但是它改变了函数的调用方式，原来我们是调用test()函数，我们像不改变调用方式，怎么办呢？"
   ]
  },
  {
   "cell_type": "code",
   "execution_count": 15,
   "metadata": {},
   "outputs": [],
   "source": [
    "import time\n",
    "def test():\n",
    "    time.sleep(2)\n",
    "    print(\"test is running\")\n",
    "def dec(func):\n",
    "    print(func)\n",
    "    return func"
   ]
  },
  {
   "cell_type": "code",
   "execution_count": 16,
   "metadata": {},
   "outputs": [
    {
     "name": "stdout",
     "output_type": "stream",
     "text": [
      "<function test at 0x06383150>\n",
      "test is running\n"
     ]
    }
   ],
   "source": [
    "dec(test)()"
   ]
  },
  {
   "cell_type": "markdown",
   "metadata": {},
   "source": [
    "* 上面的dec()函数也是一个高级函数，它的返回值是一个函数。但是它并没有增加我们需要的功能。"
   ]
  },
  {
   "cell_type": "markdown",
   "metadata": {},
   "source": [
    "## 嵌套函数\n",
    "* 嵌套函数是指在函数内部定义函数，注意不是调用函数"
   ]
  },
  {
   "cell_type": "code",
   "execution_count": 17,
   "metadata": {},
   "outputs": [],
   "source": [
    "# 定义函数\n",
    "def func1():\n",
    "    def func2():\n",
    "        pass\n",
    "    pass\n",
    "# 调用函数\n",
    "def func1():\n",
    "    func2()\n",
    "    pass"
   ]
  },
  {
   "cell_type": "code",
   "execution_count": 18,
   "metadata": {},
   "outputs": [
    {
     "name": "stdout",
     "output_type": "stream",
     "text": [
      "test is running\n",
      "2.000458002090454\n"
     ]
    }
   ],
   "source": [
    "import time\n",
    "def test():\n",
    "    time.sleep(2)\n",
    "    print(\"test is running\")\n",
    "def timer(func):\n",
    "    def deco():\n",
    "        start = time.time()\n",
    "        func()\n",
    "        stop = time.time()\n",
    "        print(stop-start)\n",
    "    return deco\n",
    "test = timer(test)       #1\n",
    "test()                   #2"
   ]
  },
  {
   "cell_type": "markdown",
   "metadata": {},
   "source": [
    "* #1处调用timer()函数，并返回了deco,赋值给test,此时test实际上就是函数deco（）的入口地址\n",
    "* #2处在test后面加上（），实际上完成了对test（）函数的调用，也即deco()函数的调用。\n",
    "* 实际上上面的函数也是一个闭包，它满足了闭包的三个条件"
   ]
  },
  {
   "cell_type": "markdown",
   "metadata": {},
   "source": [
    "* 装饰器可分为对【有无参数】函数进行装饰的装饰器和对有【无返回值函数】进行装饰的装饰器，组合起来一共有4种。即：装饰器对无参数无返回值的函数进行装饰，装饰器对无参数有返回值的函数进行装饰，装饰器对有参数无返回值的函数进行装饰，装饰器对有参数有返回值的函数进行装饰。 \n",
    "### 对无参数的函数进行装饰"
   ]
  },
  {
   "cell_type": "code",
   "execution_count": 19,
   "metadata": {},
   "outputs": [],
   "source": [
    "import time\n",
    "def timer(func):\n",
    "    def deco():\n",
    "        start = time.time()\n",
    "        func()\n",
    "        stop = time.time()\n",
    "        print(stop-start)\n",
    "    return deco\n",
    "@timer\n",
    "def test():\n",
    "    time.sleep(2)\n",
    "    print(\"test is running\")"
   ]
  },
  {
   "cell_type": "code",
   "execution_count": 20,
   "metadata": {},
   "outputs": [
    {
     "name": "stdout",
     "output_type": "stream",
     "text": [
      "test is running\n",
      "2.000509738922119\n"
     ]
    }
   ],
   "source": [
    "test()"
   ]
  },
  {
   "cell_type": "markdown",
   "metadata": {},
   "source": [
    "* 使用装饰器既增加了函数的功能，又没有改变调用方式（还是调用的test()）"
   ]
  },
  {
   "cell_type": "markdown",
   "metadata": {},
   "source": [
    "### 对有参数的函数进行装饰"
   ]
  },
  {
   "cell_type": "code",
   "execution_count": 21,
   "metadata": {},
   "outputs": [],
   "source": [
    "def timer(func):\n",
    "    def deco(args):\n",
    "        start = time.time()\n",
    "        func(args)\n",
    "        stop = time.time()\n",
    "        print(stop-start)\n",
    "    return deco\n",
    "@timer\n",
    "def test(args):\n",
    "    time.sleep(args)\n",
    "    print(\"test is running\")"
   ]
  },
  {
   "cell_type": "code",
   "execution_count": 22,
   "metadata": {},
   "outputs": [
    {
     "name": "stdout",
     "output_type": "stream",
     "text": [
      "test is running\n",
      "3.0000321865081787\n"
     ]
    }
   ],
   "source": [
    "test(3)"
   ]
  },
  {
   "cell_type": "markdown",
   "metadata": {},
   "source": [
    "## 1、装饰器对无参数函数进行装饰"
   ]
  },
  {
   "cell_type": "code",
   "execution_count": 23,
   "metadata": {},
   "outputs": [],
   "source": [
    "#对字体加粗\n",
    "def makeBold(fn):\n",
    "    def wrapped():\n",
    "        return \"<b>\"+fn()+\"</b>\"\n",
    "    return wrapped\n",
    "\n",
    "#斜体字处理\n",
    "def makeItalic(fn):\n",
    "    def wrapped():\n",
    "        return \"<i>\"+fn()+\"</i>\"\n",
    "    return wrapped\n",
    "@makeBold\n",
    "def test1():\n",
    "    return \"hello\"\n",
    "\n",
    "@makeItalic\n",
    "def test2():\n",
    "    return \"world\"\n",
    "\n",
    "@makeBold\n",
    "@makeItalic\n",
    "def test3():\n",
    "    return \"hello world\""
   ]
  },
  {
   "cell_type": "code",
   "execution_count": 25,
   "metadata": {},
   "outputs": [
    {
     "data": {
      "text/plain": [
       "'<b>hello</b>'"
      ]
     },
     "execution_count": 25,
     "metadata": {},
     "output_type": "execute_result"
    }
   ],
   "source": [
    "test1()"
   ]
  },
  {
   "cell_type": "code",
   "execution_count": 26,
   "metadata": {},
   "outputs": [
    {
     "data": {
      "text/plain": [
       "'<i>world</i>'"
      ]
     },
     "execution_count": 26,
     "metadata": {},
     "output_type": "execute_result"
    }
   ],
   "source": [
    "test2()"
   ]
  },
  {
   "cell_type": "code",
   "execution_count": 27,
   "metadata": {},
   "outputs": [
    {
     "data": {
      "text/plain": [
       "'<b><i>hello world</i></b>'"
      ]
     },
     "execution_count": 27,
     "metadata": {},
     "output_type": "execute_result"
    }
   ],
   "source": [
    "test3()"
   ]
  },
  {
   "cell_type": "markdown",
   "metadata": {},
   "source": [
    "* 上面的代码是做网页时对字体进行处理。注意：可以对一个函数同时使用多个装饰器，装饰的顺序由内而外"
   ]
  },
  {
   "cell_type": "markdown",
   "metadata": {},
   "source": [
    "## 2、装饰器对有参数的函数进行装饰"
   ]
  },
  {
   "cell_type": "code",
   "execution_count": 28,
   "metadata": {},
   "outputs": [
    {
     "name": "stdout",
     "output_type": "stream",
     "text": [
      "在此处增加功能\n",
      "30\n"
     ]
    }
   ],
   "source": [
    "def deco(func):\n",
    "    def wrapped(a,b):\n",
    "        print('在此处增加功能')\n",
    "        func(a,b)\n",
    "    return wrapped\n",
    "@deco\n",
    "def sum(a,b):\n",
    "    print(a+b)\n",
    "sum(10,20)"
   ]
  },
  {
   "cell_type": "markdown",
   "metadata": {},
   "source": [
    "* 当装饰器装饰有参数的函数时，装饰器内部的函数也必须带有和其相同的参数，因为被装饰的参数会被当成参数传进装饰器的内部函数中，如果两者的参数不一致，会报错。"
   ]
  },
  {
   "cell_type": "markdown",
   "metadata": {},
   "source": [
    "## 3、装饰器对不定长的参数函数进行装饰"
   ]
  },
  {
   "cell_type": "code",
   "execution_count": 34,
   "metadata": {},
   "outputs": [],
   "source": [
    "from time import ctime,sleep\n",
    "def deco(func):\n",
    "    def wrapped(*args, **kwargs):\n",
    "        print(\"{} is called at the time: {} \".format(func.__name__,ctime()))\n",
    "        func(*args,**kwargs)\n",
    "    return wrapped\n",
    "@deco\n",
    "def test1(a,b,c):\n",
    "    print(a+b+c)\n",
    "\n",
    "@deco\n",
    "def test2(a,b):\n",
    "    print(a*b)"
   ]
  },
  {
   "cell_type": "code",
   "execution_count": 35,
   "metadata": {},
   "outputs": [
    {
     "name": "stdout",
     "output_type": "stream",
     "text": [
      "test1 is called at the time: Thu Nov 29 19:25:07 2018 \n",
      "6\n"
     ]
    }
   ],
   "source": [
    "test1(1,2,3)"
   ]
  },
  {
   "cell_type": "code",
   "execution_count": 36,
   "metadata": {},
   "outputs": [
    {
     "name": "stdout",
     "output_type": "stream",
     "text": [
      "test2 is called at the time: Thu Nov 29 19:25:15 2018 \n",
      "8\n"
     ]
    }
   ],
   "source": [
    "test2(2,4)"
   ]
  },
  {
   "cell_type": "markdown",
   "metadata": {},
   "source": [
    "## 4、装饰器对有返回值的函数进行装饰"
   ]
  },
  {
   "cell_type": "code",
   "execution_count": 37,
   "metadata": {},
   "outputs": [],
   "source": [
    "from time import ctime,sleep\n",
    "def deco(func):\n",
    "    def wrapped(*args, **kwargs):\n",
    "        print(\"{} is called at the time: {} \".format(func.__name__,ctime()))\n",
    "        return func(*args,**kwargs)\n",
    "    return wrapped\n",
    "@deco\n",
    "def test():\n",
    "    return \"hello\""
   ]
  },
  {
   "cell_type": "code",
   "execution_count": 38,
   "metadata": {},
   "outputs": [
    {
     "data": {
      "text/plain": [
       "<function __main__.deco.<locals>.wrapped(*args, **kwargs)>"
      ]
     },
     "execution_count": 38,
     "metadata": {},
     "output_type": "execute_result"
    }
   ],
   "source": [
    "test"
   ]
  },
  {
   "cell_type": "code",
   "execution_count": 39,
   "metadata": {},
   "outputs": [
    {
     "name": "stdout",
     "output_type": "stream",
     "text": [
      "test is called at the time: Thu Nov 29 19:30:34 2018 \n"
     ]
    },
    {
     "data": {
      "text/plain": [
       "'hello'"
      ]
     },
     "execution_count": 39,
     "metadata": {},
     "output_type": "execute_result"
    }
   ],
   "source": [
    "test()"
   ]
  }
 ],
 "metadata": {
  "kernelspec": {
   "display_name": "Python 3",
   "language": "python",
   "name": "python3"
  },
  "language_info": {
   "codemirror_mode": {
    "name": "ipython",
    "version": 3
   },
   "file_extension": ".py",
   "mimetype": "text/x-python",
   "name": "python",
   "nbconvert_exporter": "python",
   "pygments_lexer": "ipython3",
   "version": "3.6.4"
  }
 },
 "nbformat": 4,
 "nbformat_minor": 2
}
